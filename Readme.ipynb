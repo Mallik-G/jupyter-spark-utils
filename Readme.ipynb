{
 "cells": [
  {
   "cell_type": "code",
   "execution_count": null,
   "metadata": {
    "ExecuteTime": {
     "end_time": "2017-04-15T09:17:00.003243Z",
     "start_time": "2017-04-15T11:16:59.988649+02:00"
    },
    "cell_style": "center",
    "collapsed": false,
    "run_control": {
     "frozen": false,
     "read_only": false
    }
   },
   "outputs": [],
   "source": [
    "spark.version"
   ]
  },
  {
   "cell_type": "markdown",
   "metadata": {
    "run_control": {
     "frozen": false,
     "read_only": false
    }
   },
   "source": [
    "# Import magics for spark\n",
    "\n",
    "- **`%%sparkStatus`**\n",
    "\n",
    "    Opens a little fixed bar at the bottom showing Job and Stage status\n",
    "    \n",
    "    Allows to kill the current job\n",
    "\n",
    "    ![status](status.png)\n",
    "    \n",
    "\n",
    "\n",
    "- **`%%sql`**\n",
    "\n",
    "    Allows to issue Spark SQL queries:\n",
    "    \n",
    "    `--status` same as `%%sparkStatus`\n",
    "    \n",
    "    `-p|--pandas <var>` store result in Pandas DataFrame\n",
    "    \n",
    "    `-s|--spark <var>` store result in Spark DataFrame\n",
    "\n",
    "    `-v|--view` print results using pandas (else return Spark DataFrame)\n",
    "    \n",
    "\n",
    "- **`%%mysql`** \n",
    "\n",
    "    Allows to query a mySQL database\n",
    "    \n",
    "    `-p|--pandas <var>` store result in Pandas DataFrame\n",
    "    \n",
    "    Use ` mysqlConfig = dict(host=\"sql-host\",user=\"me\",passwd=\"secret\",db=\"test\") ` to configure\n"
   ]
  },
  {
   "cell_type": "code",
   "execution_count": null,
   "metadata": {
    "ExecuteTime": {
     "end_time": "2017-04-15T09:17:04.536329Z",
     "start_time": "2017-04-15T11:17:04.177013+02:00"
    },
    "cell_style": "center",
    "collapsed": false,
    "run_control": {
     "frozen": false,
     "read_only": false
    }
   },
   "outputs": [],
   "source": [
    "import jupyter_spark_utils"
   ]
  },
  {
   "cell_type": "markdown",
   "metadata": {
    "ExecuteTime": {
     "end_time": "2017-04-15T09:17:15.157688Z",
     "start_time": "2017-04-15T11:17:15.153128+02:00"
    },
    "collapsed": true,
    "run_control": {
     "frozen": false,
     "read_only": false
    }
   },
   "source": [
    "# Spark Status"
   ]
  },
  {
   "cell_type": "code",
   "execution_count": null,
   "metadata": {
    "ExecuteTime": {
     "end_time": "2017-04-15T09:24:01.720008Z",
     "start_time": "2017-04-15T11:24:00.832134+02:00"
    },
    "collapsed": false
   },
   "outputs": [],
   "source": [
    "%%sparkStatus\n",
    "spark.sql(\"select count(*) from euroindicators group by CountryCode\").show(1000)"
   ]
  },
  {
   "cell_type": "markdown",
   "metadata": {
    "run_control": {
     "frozen": false,
     "read_only": false
    }
   },
   "source": [
    "# Spark SQL"
   ]
  },
  {
   "cell_type": "code",
   "execution_count": null,
   "metadata": {
    "ExecuteTime": {
     "end_time": "2017-04-15T09:20:28.954246Z",
     "start_time": "2017-04-15T11:20:28.288621+02:00"
    },
    "collapsed": false,
    "run_control": {
     "frozen": false,
     "read_only": false
    }
   },
   "outputs": [],
   "source": [
    "%%sql -v\n",
    "show tables"
   ]
  },
  {
   "cell_type": "code",
   "execution_count": null,
   "metadata": {
    "ExecuteTime": {
     "end_time": "2017-04-15T09:20:37.447027Z",
     "start_time": "2017-04-15T11:20:31.458554+02:00"
    },
    "collapsed": false,
    "run_control": {
     "frozen": false,
     "read_only": false
    }
   },
   "outputs": [],
   "source": [
    "%%sql --status -p pdf\n",
    "\n",
    "select max(sepalLength), max(sepalWidth), max(petalLength), max(petalWidth)\n",
    "from iris_p\n",
    "group by species\n"
   ]
  },
  {
   "cell_type": "code",
   "execution_count": null,
   "metadata": {
    "ExecuteTime": {
     "end_time": "2017-04-15T09:20:38.240964Z",
     "start_time": "2017-04-15T11:20:38.231406+02:00"
    },
    "collapsed": false,
    "run_control": {
     "frozen": false,
     "read_only": false
    }
   },
   "outputs": [],
   "source": [
    "pdf.head()"
   ]
  },
  {
   "cell_type": "markdown",
   "metadata": {
    "run_control": {
     "frozen": false,
     "read_only": false
    }
   },
   "source": [
    "# MySQL Access"
   ]
  },
  {
   "cell_type": "code",
   "execution_count": null,
   "metadata": {
    "ExecuteTime": {
     "end_time": "2017-04-15T09:20:40.795746Z",
     "start_time": "2017-04-15T11:20:40.791178+02:00"
    },
    "collapsed": false,
    "run_control": {
     "frozen": false,
     "read_only": false
    }
   },
   "outputs": [],
   "source": [
    "mysqlConfig = dict(host=\"master3\",user=\"etl\",passwd=\"secret\",db=\"employees\")"
   ]
  },
  {
   "cell_type": "code",
   "execution_count": null,
   "metadata": {
    "ExecuteTime": {
     "end_time": "2017-04-15T09:20:41.325980Z",
     "start_time": "2017-04-15T11:20:41.305914+02:00"
    },
    "collapsed": false,
    "run_control": {
     "frozen": false,
     "read_only": false
    }
   },
   "outputs": [],
   "source": [
    "%%mysql -p df2\n",
    "\n",
    "select * from departments\n"
   ]
  },
  {
   "cell_type": "code",
   "execution_count": null,
   "metadata": {
    "ExecuteTime": {
     "end_time": "2017-04-15T09:20:41.963989Z",
     "start_time": "2017-04-15T11:20:41.949592+02:00"
    },
    "collapsed": false,
    "run_control": {
     "frozen": false,
     "read_only": false
    }
   },
   "outputs": [],
   "source": [
    "df2"
   ]
  },
  {
   "cell_type": "code",
   "execution_count": null,
   "metadata": {
    "collapsed": true,
    "run_control": {
     "frozen": false,
     "read_only": false
    }
   },
   "outputs": [],
   "source": []
  }
 ],
 "metadata": {
  "kernelspec": {
   "display_name": "PySpark2 (HDP)",
   "language": "python",
   "name": "pyspark2"
  },
  "language_info": {
   "codemirror_mode": {
    "name": "ipython",
    "version": 3
   },
   "file_extension": ".py",
   "mimetype": "text/x-python",
   "name": "python",
   "nbconvert_exporter": "python",
   "pygments_lexer": "ipython3",
   "version": "3.5.2"
  },
  "toc": {
   "colors": {
    "hover_highlight": "#DAA520",
    "running_highlight": "#FF0000",
    "selected_highlight": "#FFD700"
   },
   "moveMenuLeft": true,
   "nav_menu": {
    "height": "12px",
    "width": "252px"
   },
   "navigate_menu": true,
   "number_sections": true,
   "sideBar": true,
   "threshold": 4,
   "toc_cell": false,
   "toc_section_display": "block",
   "toc_window_display": false,
   "widenNotebook": false
  }
 },
 "nbformat": 4,
 "nbformat_minor": 2
}
