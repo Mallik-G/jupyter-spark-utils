{
 "cells": [
  {
   "cell_type": "code",
   "execution_count": 1,
   "metadata": {
    "ExecuteTime": {
     "end_time": "2017-04-15T09:37:25.197266Z",
     "start_time": "2017-04-15T11:37:25.178315+02:00"
    },
    "cell_style": "center",
    "collapsed": false,
    "run_control": {
     "frozen": false,
     "read_only": false
    }
   },
   "outputs": [
    {
     "data": {
      "text/plain": [
       "'2.1.0.2.6.0.3-8'"
      ]
     },
     "execution_count": 1,
     "metadata": {},
     "output_type": "execute_result"
    }
   ],
   "source": [
    "spark.version"
   ]
  },
  {
   "cell_type": "markdown",
   "metadata": {
    "run_control": {
     "frozen": false,
     "read_only": false
    }
   },
   "source": [
    "# Import magics for spark\n",
    "\n",
    "- **`%%sparkStatus`**\n",
    "\n",
    "    Opens a little fixed bar at the bottom showing Job and Stage status\n",
    "    \n",
    "    Allows to kill the current job\n",
    "\n",
    "    ![status](status.png)\n",
    "    \n",
    "\n",
    "\n",
    "- **`%%sql`**\n",
    "\n",
    "    Allows to issue Spark SQL queries:\n",
    "    \n",
    "    `--status` same as `%%sparkStatus`\n",
    "    \n",
    "    `-p|--pandas <var>` store result in Pandas DataFrame\n",
    "    \n",
    "    `-s|--spark <var>` store result in Spark DataFrame\n",
    "\n",
    "    `-v|--view` print results using pandas (else return Spark DataFrame)\n",
    "    \n",
    "\n",
    "- **`%%mysql`** \n",
    "\n",
    "    Allows to query a mySQL database\n",
    "    \n",
    "    `-p|--pandas <var>` store result in Pandas DataFrame\n",
    "    \n",
    "    Use ` mysqlConfig = dict(host=\"sql-host\",user=\"me\",passwd=\"secret\",db=\"test\") ` to configure\n"
   ]
  },
  {
   "cell_type": "code",
   "execution_count": 2,
   "metadata": {
    "ExecuteTime": {
     "end_time": "2017-04-15T09:37:25.591012Z",
     "start_time": "2017-04-15T11:37:25.199889+02:00"
    },
    "cell_style": "center",
    "collapsed": false,
    "run_control": {
     "frozen": false,
     "read_only": false
    }
   },
   "outputs": [
    {
     "name": "stdout",
     "output_type": "stream",
     "text": [
      "\n",
      "Available magics: \n",
      "\t%%sparkStatus\n",
      "\t%%sql --status -v|--view -p|--pandas pdf -s|--spark sdf\n",
      "\t%%mysql -p|--pandas pdf\n",
      "\n"
     ]
    }
   ],
   "source": [
    "import jupyter_spark_utils"
   ]
  },
  {
   "cell_type": "markdown",
   "metadata": {
    "ExecuteTime": {
     "end_time": "2017-04-15T09:17:15.157688Z",
     "start_time": "2017-04-15T11:17:15.153128+02:00"
    },
    "collapsed": true,
    "run_control": {
     "frozen": false,
     "read_only": false
    }
   },
   "source": [
    "# Spark Status"
   ]
  },
  {
   "cell_type": "code",
   "execution_count": 3,
   "metadata": {
    "ExecuteTime": {
     "end_time": "2017-04-15T09:37:42.417961Z",
     "start_time": "2017-04-15T11:37:30.653118+02:00"
    },
    "collapsed": false,
    "run_control": {
     "frozen": false,
     "read_only": false
    }
   },
   "outputs": [
    {
     "data": {
      "application/javascript": [
       "\n",
       "    if (typeof(window.myTimers) == \"undefined\") {\n",
       "        window.myTimers = []\n",
       "    }\n",
       "    \n",
       "    $(\"#sparkStatusFooter\").remove()\n",
       "\n",
       "    $('body').append('<div id=\"sparkStatusFooter\" style=\"background-color: rgba(255,255,255,0.9); z-index:100;position: fixed;left: 0; right: 0; bottom: 0; height: 45px;padding: 10px\"></div>');\n",
       "    "
      ]
     },
     "metadata": {},
     "output_type": "display_data"
    },
    {
     "data": {
      "application/javascript": [
       "\n",
       "    var sparkStatus = function(rm, appId) {\n",
       "        var url = \"http://\" + rm + \"/proxy/\" + appId;\n",
       "        var killPath = \"/jobs/job/kill/?id=\";\n",
       "        var trackPath = \"/api/v1/applications/\" + appId + \"/\";\n",
       "        \n",
       "        window.sparkKillJob = false;\n",
       "        \n",
       "        var killJob = function(jobId) {\n",
       "            $.ajax({\n",
       "                url: url + killPath + jobId,\n",
       "                success: function(response) {\n",
       "                    console.log(\"kill success\");\n",
       "                },\n",
       "                error: function(request, options, error) {\n",
       "                    console.log(\"kill error \", error)\n",
       "                }\n",
       "            });  \n",
       "        }\n",
       "\n",
       "        var loadStatus = function(statusType, callback) {\n",
       "            $.ajax({\n",
       "                dataType: \"json\",\n",
       "                url: url + trackPath + statusType,\n",
       "                username: \"bernhard\",\n",
       "                success: callback,\n",
       "                error: function(request, options, error) {\n",
       "                    console.log(\"load error \", error)\n",
       "                }\n",
       "            });                \n",
       "        }\n",
       "\n",
       "        var showStatus = function(txt, withButton) {\n",
       "            var button = \"\";\n",
       "            if (withButton) {\n",
       "                button = '<button style=\"margin:4px;\" onclick=\"window.sparkKillJob=true\"> KILL </button>'\n",
       "            }\n",
       "            $(\"#sparkStatusFooter\").html(button + txt);\n",
       "        }\n",
       "\n",
       "        var retries = 3;\n",
       "        var attempt = 0;\n",
       "        \n",
       "        window.myTimer = setInterval(function() {\n",
       "            console.log(\"next\")\n",
       "            loadStatus(\"jobs\", function(data) {\n",
       "                var complete = true;\n",
       "                for (var i in data) {\n",
       "                    complete = complete && (data[i].status == \"SUCCEEDED\");\n",
       "                }\n",
       "                if (complete && attempt < 3) {\n",
       "                    complete = false;\n",
       "                    attempt++;\n",
       "                } else {\n",
       "                    attempt = 0;\n",
       "                }\n",
       "                if (!complete) {\n",
       "                    var d = data[0]\n",
       "                    var out = \"SPARK STATUS: JobId: \" + d.jobId +\n",
       "                              \", Tasks (all/act/done): \" + d.numTasks          + \"/\" + \n",
       "                                                           d.numActiveTasks    + \"/\" + \n",
       "                                                           d.numCompletedTasks +\n",
       "                              \", stageIds: \" + JSON.stringify(d.stageIds)\n",
       "\n",
       "                    if (window.sparkKillJob) {\n",
       "                        killJob(d.jobId);\n",
       "                    }\n",
       "\n",
       "                    loadStatus(\"stages\", function(data) {\n",
       "                        for (var i in data) {\n",
       "                            if (data[i].status != \"COMPLETE\") {\n",
       "                                var out2 = \" ==> \" +\n",
       "                                           \"Stage: \" + data[i].stageId + \n",
       "                                           \" (\" + data[i].name.split(\":\")[0] + \"): \" + \n",
       "                                           data[i].status\n",
       "                                showStatus(out + out2, true);\n",
       "                            }\n",
       "                        }\n",
       "                    })\n",
       "                } else {\n",
       "                    showStatus(\"Done\", false)\n",
       "                    clearInterval(window.myTimer)\n",
       "                }\n",
       "            })\n",
       "        }, 500)\n",
       "\n",
       "        window.myTimers.push(myTimer)\n",
       "    }\n",
       "    \n",
       "    sparkStatus(\"master2.localdomain:8088\", \"application_1492234385596_0021\")\n",
       "    "
      ]
     },
     "metadata": {},
     "output_type": "display_data"
    },
    {
     "name": "stdout",
     "output_type": "stream",
     "text": [
      "+--------+\n",
      "|count(1)|\n",
      "+--------+\n",
      "|   16663|\n",
      "|   21177|\n",
      "|   26371|\n",
      "|   26136|\n",
      "|   16853|\n",
      "|   30014|\n",
      "|   25293|\n",
      "|   23199|\n",
      "|   17250|\n",
      "|   22293|\n",
      "|   26096|\n",
      "|   26348|\n",
      "|   20834|\n",
      "|   25516|\n",
      "|   25136|\n",
      "|   16336|\n",
      "|   24097|\n",
      "|   25551|\n",
      "|   25949|\n",
      "|   16991|\n",
      "|   24723|\n",
      "|   26503|\n",
      "|   17161|\n",
      "|   25794|\n",
      "|   23461|\n",
      "|   23166|\n",
      "|   19156|\n",
      "+--------+\n",
      "\n"
     ]
    },
    {
     "data": {
      "application/javascript": [
       "\n",
       "    for (var i in window.myTimers) {\n",
       "        clearInterval(window.myTimers[i])\n",
       "    }\n",
       "    window.myTimers = []\n",
       "    $(\"#sparkStatusFooter\").remove()\n",
       "    "
      ]
     },
     "metadata": {},
     "output_type": "display_data"
    }
   ],
   "source": [
    "%%sparkStatus\n",
    "spark.sql(\"select count(*) from euroindicators group by CountryCode\").show(1000)"
   ]
  },
  {
   "cell_type": "markdown",
   "metadata": {
    "run_control": {
     "frozen": false,
     "read_only": false
    }
   },
   "source": [
    "# Spark SQL"
   ]
  },
  {
   "cell_type": "code",
   "execution_count": 4,
   "metadata": {
    "ExecuteTime": {
     "end_time": "2017-04-15T09:37:46.202694Z",
     "start_time": "2017-04-15T11:37:45.493627+02:00"
    },
    "collapsed": false,
    "run_control": {
     "frozen": false,
     "read_only": false
    }
   },
   "outputs": [
    {
     "data": {
      "text/html": [
       "<div>\n",
       "<table border=\"1\" class=\"dataframe\">\n",
       "  <thead>\n",
       "    <tr style=\"text-align: right;\">\n",
       "      <th></th>\n",
       "      <th>database</th>\n",
       "      <th>tableName</th>\n",
       "      <th>isTemporary</th>\n",
       "    </tr>\n",
       "  </thead>\n",
       "  <tbody>\n",
       "    <tr>\n",
       "      <th>0</th>\n",
       "      <td>default</td>\n",
       "      <td>euroindicators</td>\n",
       "      <td>False</td>\n",
       "    </tr>\n",
       "    <tr>\n",
       "      <th>1</th>\n",
       "      <td>default</td>\n",
       "      <td>iris</td>\n",
       "      <td>False</td>\n",
       "    </tr>\n",
       "    <tr>\n",
       "      <th>2</th>\n",
       "      <td>default</td>\n",
       "      <td>iris_p</td>\n",
       "      <td>False</td>\n",
       "    </tr>\n",
       "    <tr>\n",
       "      <th>3</th>\n",
       "      <td>default</td>\n",
       "      <td>worldindicators</td>\n",
       "      <td>False</td>\n",
       "    </tr>\n",
       "  </tbody>\n",
       "</table>\n",
       "</div>"
      ],
      "text/plain": [
       "  database        tableName isTemporary\n",
       "0  default   euroindicators       False\n",
       "1  default             iris       False\n",
       "2  default           iris_p       False\n",
       "3  default  worldindicators       False"
      ]
     },
     "execution_count": 4,
     "metadata": {},
     "output_type": "execute_result"
    }
   ],
   "source": [
    "%%sql -v\n",
    "show tables"
   ]
  },
  {
   "cell_type": "code",
   "execution_count": 5,
   "metadata": {
    "ExecuteTime": {
     "end_time": "2017-04-15T09:37:51.894457Z",
     "start_time": "2017-04-15T11:37:48.595008+02:00"
    },
    "collapsed": false,
    "run_control": {
     "frozen": false,
     "read_only": false
    }
   },
   "outputs": [
    {
     "data": {
      "application/javascript": [
       "\n",
       "    if (typeof(window.myTimers) == \"undefined\") {\n",
       "        window.myTimers = []\n",
       "    }\n",
       "    \n",
       "    $(\"#sparkStatusFooter\").remove()\n",
       "\n",
       "    $('body').append('<div id=\"sparkStatusFooter\" style=\"background-color: rgba(255,255,255,0.9); z-index:100;position: fixed;left: 0; right: 0; bottom: 0; height: 45px;padding: 10px\"></div>');\n",
       "    "
      ]
     },
     "metadata": {},
     "output_type": "display_data"
    },
    {
     "data": {
      "application/javascript": [
       "\n",
       "    var sparkStatus = function(rm, appId) {\n",
       "        var url = \"http://\" + rm + \"/proxy/\" + appId;\n",
       "        var killPath = \"/jobs/job/kill/?id=\";\n",
       "        var trackPath = \"/api/v1/applications/\" + appId + \"/\";\n",
       "        \n",
       "        window.sparkKillJob = false;\n",
       "        \n",
       "        var killJob = function(jobId) {\n",
       "            $.ajax({\n",
       "                url: url + killPath + jobId,\n",
       "                success: function(response) {\n",
       "                    console.log(\"kill success\");\n",
       "                },\n",
       "                error: function(request, options, error) {\n",
       "                    console.log(\"kill error \", error)\n",
       "                }\n",
       "            });  \n",
       "        }\n",
       "\n",
       "        var loadStatus = function(statusType, callback) {\n",
       "            $.ajax({\n",
       "                dataType: \"json\",\n",
       "                url: url + trackPath + statusType,\n",
       "                username: \"bernhard\",\n",
       "                success: callback,\n",
       "                error: function(request, options, error) {\n",
       "                    console.log(\"load error \", error)\n",
       "                }\n",
       "            });                \n",
       "        }\n",
       "\n",
       "        var showStatus = function(txt, withButton) {\n",
       "            var button = \"\";\n",
       "            if (withButton) {\n",
       "                button = '<button style=\"margin:4px;\" onclick=\"window.sparkKillJob=true\"> KILL </button>'\n",
       "            }\n",
       "            $(\"#sparkStatusFooter\").html(button + txt);\n",
       "        }\n",
       "\n",
       "        var retries = 3;\n",
       "        var attempt = 0;\n",
       "        \n",
       "        window.myTimer = setInterval(function() {\n",
       "            console.log(\"next\")\n",
       "            loadStatus(\"jobs\", function(data) {\n",
       "                var complete = true;\n",
       "                for (var i in data) {\n",
       "                    complete = complete && (data[i].status == \"SUCCEEDED\");\n",
       "                }\n",
       "                if (complete && attempt < 3) {\n",
       "                    complete = false;\n",
       "                    attempt++;\n",
       "                } else {\n",
       "                    attempt = 0;\n",
       "                }\n",
       "                if (!complete) {\n",
       "                    var d = data[0]\n",
       "                    var out = \"SPARK STATUS: JobId: \" + d.jobId +\n",
       "                              \", Tasks (all/act/done): \" + d.numTasks          + \"/\" + \n",
       "                                                           d.numActiveTasks    + \"/\" + \n",
       "                                                           d.numCompletedTasks +\n",
       "                              \", stageIds: \" + JSON.stringify(d.stageIds)\n",
       "\n",
       "                    if (window.sparkKillJob) {\n",
       "                        killJob(d.jobId);\n",
       "                    }\n",
       "\n",
       "                    loadStatus(\"stages\", function(data) {\n",
       "                        for (var i in data) {\n",
       "                            if (data[i].status != \"COMPLETE\") {\n",
       "                                var out2 = \" ==> \" +\n",
       "                                           \"Stage: \" + data[i].stageId + \n",
       "                                           \" (\" + data[i].name.split(\":\")[0] + \"): \" + \n",
       "                                           data[i].status\n",
       "                                showStatus(out + out2, true);\n",
       "                            }\n",
       "                        }\n",
       "                    })\n",
       "                } else {\n",
       "                    showStatus(\"Done\", false)\n",
       "                    clearInterval(window.myTimer)\n",
       "                }\n",
       "            })\n",
       "        }, 500)\n",
       "\n",
       "        window.myTimers.push(myTimer)\n",
       "    }\n",
       "    \n",
       "    sparkStatus(\"master2.localdomain:8088\", \"application_1492234385596_0021\")\n",
       "    "
      ]
     },
     "metadata": {},
     "output_type": "display_data"
    },
    {
     "data": {
      "application/javascript": [
       "\n",
       "    for (var i in window.myTimers) {\n",
       "        clearInterval(window.myTimers[i])\n",
       "    }\n",
       "    window.myTimers = []\n",
       "    $(\"#sparkStatusFooter\").remove()\n",
       "    "
      ]
     },
     "metadata": {},
     "output_type": "display_data"
    },
    {
     "data": {
      "text/plain": [
       "DataFrame[max(sepalLength): double, max(sepalWidth): double, max(petalLength): double, max(petalWidth): double]"
      ]
     },
     "execution_count": 5,
     "metadata": {},
     "output_type": "execute_result"
    }
   ],
   "source": [
    "%%sql --status -p pdf\n",
    "\n",
    "select max(sepalLength), max(sepalWidth), max(petalLength), max(petalWidth)\n",
    "from iris_p\n",
    "group by species\n"
   ]
  },
  {
   "cell_type": "code",
   "execution_count": 6,
   "metadata": {
    "ExecuteTime": {
     "end_time": "2017-04-15T09:37:54.471552Z",
     "start_time": "2017-04-15T11:37:54.460311+02:00"
    },
    "collapsed": false,
    "run_control": {
     "frozen": false,
     "read_only": false
    }
   },
   "outputs": [
    {
     "data": {
      "text/html": [
       "<div>\n",
       "<table border=\"1\" class=\"dataframe\">\n",
       "  <thead>\n",
       "    <tr style=\"text-align: right;\">\n",
       "      <th></th>\n",
       "      <th>max(sepalLength)</th>\n",
       "      <th>max(sepalWidth)</th>\n",
       "      <th>max(petalLength)</th>\n",
       "      <th>max(petalWidth)</th>\n",
       "    </tr>\n",
       "  </thead>\n",
       "  <tbody>\n",
       "    <tr>\n",
       "      <th>0</th>\n",
       "      <td>7.9</td>\n",
       "      <td>3.8</td>\n",
       "      <td>6.9</td>\n",
       "      <td>2.5</td>\n",
       "    </tr>\n",
       "    <tr>\n",
       "      <th>1</th>\n",
       "      <td>5.8</td>\n",
       "      <td>4.4</td>\n",
       "      <td>1.9</td>\n",
       "      <td>0.6</td>\n",
       "    </tr>\n",
       "    <tr>\n",
       "      <th>2</th>\n",
       "      <td>7.0</td>\n",
       "      <td>3.4</td>\n",
       "      <td>5.1</td>\n",
       "      <td>1.8</td>\n",
       "    </tr>\n",
       "  </tbody>\n",
       "</table>\n",
       "</div>"
      ],
      "text/plain": [
       "   max(sepalLength)  max(sepalWidth)  max(petalLength)  max(petalWidth)\n",
       "0               7.9              3.8               6.9              2.5\n",
       "1               5.8              4.4               1.9              0.6\n",
       "2               7.0              3.4               5.1              1.8"
      ]
     },
     "execution_count": 6,
     "metadata": {},
     "output_type": "execute_result"
    }
   ],
   "source": [
    "pdf.head()"
   ]
  },
  {
   "cell_type": "markdown",
   "metadata": {
    "run_control": {
     "frozen": false,
     "read_only": false
    }
   },
   "source": [
    "# MySQL Access"
   ]
  },
  {
   "cell_type": "code",
   "execution_count": 7,
   "metadata": {
    "ExecuteTime": {
     "end_time": "2017-04-15T09:37:55.800100Z",
     "start_time": "2017-04-15T11:37:55.795688+02:00"
    },
    "collapsed": false,
    "run_control": {
     "frozen": false,
     "read_only": false
    }
   },
   "outputs": [],
   "source": [
    "mysqlConfig = dict(host=\"master3\",user=\"etl\",passwd=\"secret\",db=\"employees\")"
   ]
  },
  {
   "cell_type": "code",
   "execution_count": 8,
   "metadata": {
    "ExecuteTime": {
     "end_time": "2017-04-15T09:37:56.504696Z",
     "start_time": "2017-04-15T11:37:56.486498+02:00"
    },
    "collapsed": false,
    "run_control": {
     "frozen": false,
     "read_only": false
    }
   },
   "outputs": [],
   "source": [
    "%%mysql -p df2\n",
    "\n",
    "select * from departments\n"
   ]
  },
  {
   "cell_type": "code",
   "execution_count": 9,
   "metadata": {
    "ExecuteTime": {
     "end_time": "2017-04-15T09:37:57.077407Z",
     "start_time": "2017-04-15T11:37:57.062832+02:00"
    },
    "collapsed": false,
    "run_control": {
     "frozen": false,
     "read_only": false
    }
   },
   "outputs": [
    {
     "data": {
      "text/html": [
       "<div>\n",
       "<table border=\"1\" class=\"dataframe\">\n",
       "  <thead>\n",
       "    <tr style=\"text-align: right;\">\n",
       "      <th></th>\n",
       "      <th>dept_name</th>\n",
       "      <th>dept_no</th>\n",
       "    </tr>\n",
       "  </thead>\n",
       "  <tbody>\n",
       "    <tr>\n",
       "      <th>0</th>\n",
       "      <td>Customer Service</td>\n",
       "      <td>d009</td>\n",
       "    </tr>\n",
       "    <tr>\n",
       "      <th>1</th>\n",
       "      <td>Development</td>\n",
       "      <td>d005</td>\n",
       "    </tr>\n",
       "    <tr>\n",
       "      <th>2</th>\n",
       "      <td>Finance</td>\n",
       "      <td>d002</td>\n",
       "    </tr>\n",
       "    <tr>\n",
       "      <th>3</th>\n",
       "      <td>Human Resources</td>\n",
       "      <td>d003</td>\n",
       "    </tr>\n",
       "    <tr>\n",
       "      <th>4</th>\n",
       "      <td>Marketing</td>\n",
       "      <td>d001</td>\n",
       "    </tr>\n",
       "    <tr>\n",
       "      <th>5</th>\n",
       "      <td>Production</td>\n",
       "      <td>d004</td>\n",
       "    </tr>\n",
       "    <tr>\n",
       "      <th>6</th>\n",
       "      <td>Quality Management</td>\n",
       "      <td>d006</td>\n",
       "    </tr>\n",
       "    <tr>\n",
       "      <th>7</th>\n",
       "      <td>Research</td>\n",
       "      <td>d008</td>\n",
       "    </tr>\n",
       "    <tr>\n",
       "      <th>8</th>\n",
       "      <td>Sales</td>\n",
       "      <td>d007</td>\n",
       "    </tr>\n",
       "  </tbody>\n",
       "</table>\n",
       "</div>"
      ],
      "text/plain": [
       "            dept_name dept_no\n",
       "0    Customer Service    d009\n",
       "1         Development    d005\n",
       "2             Finance    d002\n",
       "3     Human Resources    d003\n",
       "4           Marketing    d001\n",
       "5          Production    d004\n",
       "6  Quality Management    d006\n",
       "7            Research    d008\n",
       "8               Sales    d007"
      ]
     },
     "execution_count": 9,
     "metadata": {},
     "output_type": "execute_result"
    }
   ],
   "source": [
    "df2"
   ]
  },
  {
   "cell_type": "code",
   "execution_count": null,
   "metadata": {
    "collapsed": true,
    "run_control": {
     "frozen": false,
     "read_only": false
    }
   },
   "outputs": [],
   "source": []
  }
 ],
 "metadata": {
  "kernelspec": {
   "display_name": "PySpark2 (HDP)",
   "language": "python",
   "name": "pyspark2"
  },
  "language_info": {
   "codemirror_mode": {
    "name": "ipython",
    "version": 3
   },
   "file_extension": ".py",
   "mimetype": "text/x-python",
   "name": "python",
   "nbconvert_exporter": "python",
   "pygments_lexer": "ipython3",
   "version": "3.5.2"
  },
  "toc": {
   "colors": {
    "hover_highlight": "#DAA520",
    "running_highlight": "#FF0000",
    "selected_highlight": "#FFD700"
   },
   "moveMenuLeft": true,
   "nav_menu": {
    "height": "12px",
    "width": "252px"
   },
   "navigate_menu": true,
   "number_sections": true,
   "sideBar": true,
   "threshold": 4,
   "toc_cell": false,
   "toc_section_display": "block",
   "toc_window_display": false,
   "widenNotebook": false
  }
 },
 "nbformat": 4,
 "nbformat_minor": 2
}
